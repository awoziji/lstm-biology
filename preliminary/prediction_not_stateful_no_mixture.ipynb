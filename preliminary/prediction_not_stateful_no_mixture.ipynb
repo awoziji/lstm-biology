{
 "cells": [
  {
   "cell_type": "code",
   "execution_count": 1,
   "metadata": {
    "ExecuteTime": {
     "end_time": "2016-03-17T20:06:54.216000",
     "start_time": "2016-03-17T20:06:53.280000"
    },
    "collapsed": true
   },
   "outputs": [],
   "source": [
    "%matplotlib inline\n",
    "import numpy as np\n",
    "import matplotlib.pyplot as plt\n",
    "import matplotlib"
   ]
  },
  {
   "cell_type": "code",
   "execution_count": 2,
   "metadata": {
    "ExecuteTime": {
     "end_time": "2016-03-17T20:06:58.026000",
     "start_time": "2016-03-17T20:06:54.910000"
    },
    "collapsed": false
   },
   "outputs": [
    {
     "name": "stdout",
     "output_type": "stream",
     "text": [
      "Category alive: Found 65 files, created 130 trajectories\n",
      "Category fibro: Found 69 files, created 345 trajectories\n",
      "Category plastic: Found 177 files, created 885 trajectories\n"
     ]
    }
   ],
   "source": [
    "# Read all data files of one category.\n",
    "import os\n",
    "\n",
    "trajectories_per_category = {}\n",
    "categories = ['alive', 'fibro', 'plastic']\n",
    "downsample_steps = [2, 5, 5]\n",
    "for category, downsample_step in zip(categories, downsample_steps):\n",
    "    data_dir = 'data/JulianTrajs/' + category\n",
    "    trajectories_per_category[category] = []  # dimensions: trajectory index -> time step -> coordinate (x, y, z)\n",
    "    filenames = os.listdir(data_dir)    \n",
    "    for filename in filenames:\n",
    "        trajectory = np.genfromtxt(os.path.join(data_dir, filename))\n",
    "        for start in range(downsample_step):\n",
    "            end = -(downsample_step - start)\n",
    "            sliced_trajectory = trajectory[start:end:downsample_step]\n",
    "            trajectories_per_category[category].append(sliced_trajectory)\n",
    "    trajectories_per_category[category] = np.array(trajectories_per_category[category])\n",
    "    print \"Category {}: Found {} files, created {} trajectories\".format(category, len(filenames), len(trajectories_per_category[category]))"
   ]
  },
  {
   "cell_type": "code",
   "execution_count": 3,
   "metadata": {
    "ExecuteTime": {
     "end_time": "2016-03-17T20:06:58.778000",
     "start_time": "2016-03-17T20:06:58.772000"
    },
    "collapsed": true
   },
   "outputs": [],
   "source": [
    "def to_velocities(x, multiple_trajectories=False):\n",
    "    return np.diff(x, axis=int(multiple_trajectories)) / 5.\n",
    "# TODO: Does only work for single trajectory right now, extend to multiple trajectories if needed.\n",
    "def to_positions(x):\n",
    "    return np.append(np.zeros((1, 3)), np.cumsum(x * 5., axis=0), axis=0)"
   ]
  },
  {
   "cell_type": "code",
   "execution_count": 4,
   "metadata": {
    "ExecuteTime": {
     "end_time": "2016-03-17T20:06:59.767000",
     "start_time": "2016-03-17T20:06:59.751000"
    },
    "collapsed": true
   },
   "outputs": [],
   "source": [
    "for category in trajectories_per_category:\n",
    "    trajectories_per_category[category] = to_velocities(trajectories_per_category[category], multiple_trajectories=True)"
   ]
  },
  {
   "cell_type": "code",
   "execution_count": 5,
   "metadata": {
    "ExecuteTime": {
     "end_time": "2016-03-17T20:07:00.927000",
     "start_time": "2016-03-17T20:07:00.915000"
    },
    "collapsed": true
   },
   "outputs": [],
   "source": [
    "# Normalize trajectories to [-1, 1] for the LSTM network (it outputs values between -1 and 1 by default)\n",
    "# TODO: Do not use min/max values here but fixed value to generalize to other datasets.\n",
    "min_value = np.min([np.min(traj) for traj in trajectories_per_category.values()])\n",
    "max_value = np.max([np.max(traj) for traj in trajectories_per_category.values()])\n",
    "def normalize(x):\n",
    "    return np.interp(x, [min_value, max_value], [-1., 1.])\n",
    "def denormalize(x):\n",
    "    return np.interp(x, [-1., 1.], [min_value, max_value])"
   ]
  },
  {
   "cell_type": "code",
   "execution_count": 6,
   "metadata": {
    "ExecuteTime": {
     "end_time": "2016-03-17T20:07:02.359000",
     "start_time": "2016-03-17T20:07:02.333000"
    },
    "collapsed": true
   },
   "outputs": [],
   "source": [
    "for category in trajectories_per_category:\n",
    "    trajectories_per_category[category] = normalize(trajectories_per_category[category])"
   ]
  },
  {
   "cell_type": "code",
   "execution_count": 7,
   "metadata": {
    "ExecuteTime": {
     "end_time": "2016-03-17T20:07:05.414000",
     "start_time": "2016-03-17T20:07:05.246000"
    },
    "collapsed": false
   },
   "outputs": [
    {
     "name": "stdout",
     "output_type": "stream",
     "text": [
      "Created 20700 data samples for category fibro\n"
     ]
    }
   ],
   "source": [
    "# TODO: Split into training/test data here.\n",
    "# TODO: Possible to use validation data in this scenario?\n",
    "\n",
    "\n",
    "# Split trajectories into short parts following. Save the next position for each part.\n",
    "# See also https://github.com/fchollet/keras/blob/master/examples/lstm_text_generation.py\n",
    "\n",
    "category = 'fibro'\n",
    "maxlen = 20  # Change this to see how strong the current position depends on the positions long ago. REPHRASE THIS\n",
    "step = 3  # Change this to vary redundancy. \n",
    "mini_trajectories = []\n",
    "next_values = []\n",
    "\n",
    "for trajectory in trajectories_per_category[category]:\n",
    "    for i in range(0, len(trajectory) - maxlen, step):\n",
    "        mini_trajectories.append(trajectory[i:i+maxlen])\n",
    "        next_values.append(trajectory[i+maxlen] - trajectory[i])\n",
    "        \n",
    "mini_trajectories = np.array(mini_trajectories)\n",
    "next_values = np.array(next_values)\n",
    "\n",
    "print 'Created', len(mini_trajectories), 'data samples for category', category"
   ]
  },
  {
   "cell_type": "code",
   "execution_count": 8,
   "metadata": {
    "ExecuteTime": {
     "end_time": "2016-03-17T20:09:28.856000",
     "start_time": "2016-03-17T20:07:07.287000"
    },
    "collapsed": false
   },
   "outputs": [
    {
     "name": "stderr",
     "output_type": "stream",
     "text": [
      "Using Theano backend.\n",
      "D:\\Python\\27_32bit\\lib\\site-packages\\theano\\tensor\\signal\\downsample.py:5: UserWarning: downsample module has been moved to the pool module.\n",
      "  warnings.warn(\"downsample module has been moved to the pool module.\")\n"
     ]
    }
   ],
   "source": [
    "# Set up the network.\n",
    "from keras.models import Sequential\n",
    "from keras.layers import Dense, Activation, Dropout\n",
    "from keras.layers import LSTM\n",
    "\n",
    "model = Sequential()\n",
    "\n",
    "# TODO: Try stateful for the same trajectory\n",
    "# TODO: Play around with output_dim here. \n",
    "model.add(LSTM(input_shape=(maxlen, 3), output_dim=100, return_sequences=True))\n",
    "#model.add(Dropout(0.3))\n",
    "#model.add(LSTM(output_dim=10, return_sequences=True))\n",
    "model.add(LSTM(output_dim=100, return_sequences=False))\n",
    "model.add(Dense(output_dim=3))\n",
    "model.add(Activation('linear'))\n",
    "\n",
    "model.compile(loss='mean_squared_error', optimizer='rmsprop')"
   ]
  },
  {
   "cell_type": "code",
   "execution_count": 12,
   "metadata": {
    "ExecuteTime": {
     "end_time": "2016-03-17T20:30:20.436000",
     "start_time": "2016-03-17T20:14:28.554000"
    },
    "collapsed": false
   },
   "outputs": [
    {
     "name": "stdout",
     "output_type": "stream",
     "text": [
      "Epoch 1/10\n",
      "20700/20700 [==============================] - 127s - loss: 0.0030   \n",
      "Epoch 2/10\n",
      "20700/20700 [==============================] - 108s - loss: 0.0028   \n",
      "Epoch 3/10\n",
      "20700/20700 [==============================] - 87s - loss: 0.0027    \n",
      "Epoch 4/10\n",
      "20700/20700 [==============================] - 80s - loss: 0.0026    \n",
      "Epoch 5/10\n",
      "20700/20700 [==============================] - 96s - loss: 0.0025    \n",
      "Epoch 6/10\n",
      "20700/20700 [==============================] - 80s - loss: 0.0024    \n",
      "Epoch 7/10\n",
      "20700/20700 [==============================] - 79s - loss: 0.0023    \n",
      "Epoch 8/10\n",
      "20700/20700 [==============================] - 87s - loss: 0.0023    \n",
      "Epoch 9/10\n",
      "20700/20700 [==============================] - 97s - loss: 0.0022    \n",
      "Epoch 10/10\n",
      "20700/20700 [==============================] - 105s - loss: 0.0022   \n"
     ]
    }
   ],
   "source": [
    "# Train the model.\n",
    "hist = model.fit(mini_trajectories, next_values, nb_epoch=10, batch_size=50, verbose=1)\n",
    "\n",
    "# TODO: See if GPU is better for RNN (according to keras docs)\n",
    "# TODO: Play with batch_size --> esp, does it influence final accuracy or only learning time?\n",
    "# TODO: Other implementation: learn on single trajectory, X = trajectory[:-1], y = trajectory[1:], then repeat this for the other trajectories\n",
    "#       Input and output dimension 3 in this case; does the network have to be stateful?\n",
    "\n",
    "# TODO: How is the accuracy calculated here?"
   ]
  },
  {
   "cell_type": "code",
   "execution_count": null,
   "metadata": {
    "ExecuteTime": {
     "end_time": "2016-03-15T01:02:13.950000",
     "start_time": "2016-03-15T01:02:13.637000"
    },
    "collapsed": false
   },
   "outputs": [],
   "source": [
    "plt.plot(range(1, len(hist.history['loss']) + 1), hist.history['loss'])"
   ]
  },
  {
   "cell_type": "code",
   "execution_count": null,
   "metadata": {
    "ExecuteTime": {
     "end_time": "2016-03-15T01:06:11.808000",
     "start_time": "2016-03-15T01:05:50.913000"
    },
    "collapsed": true
   },
   "outputs": [],
   "source": [
    "# Test the model predictions on the training data. \n",
    "predicted = denormalize(model.predict(mini_trajectories))\n",
    "expected = denormalize(next_values)"
   ]
  },
  {
   "cell_type": "code",
   "execution_count": null,
   "metadata": {
    "ExecuteTime": {
     "end_time": "2016-03-15T01:06:11.920000",
     "start_time": "2016-03-15T01:06:11.873000"
    },
    "collapsed": false
   },
   "outputs": [],
   "source": [
    "zip(predicted[100:120], expected[100:120])"
   ]
  },
  {
   "cell_type": "code",
   "execution_count": null,
   "metadata": {
    "ExecuteTime": {
     "end_time": "2016-03-15T01:06:12.002000",
     "start_time": "2016-03-15T01:06:11.991000"
    },
    "collapsed": false
   },
   "outputs": [],
   "source": [
    "# Rough measure for deviation.\n",
    "np.sum(np.abs(predicted - expected)) / len(predicted) / 3.\n",
    "# TODO: Compare with constant or random predictor"
   ]
  },
  {
   "cell_type": "code",
   "execution_count": null,
   "metadata": {
    "ExecuteTime": {
     "end_time": "2016-03-14T18:05:19.530000",
     "start_time": "2016-03-14T18:05:19.527000"
    },
    "collapsed": true
   },
   "outputs": [],
   "source": [
    "# TODO: Other possible idea: Make matrix around current position with probabilities as output\n",
    "# TODO: CLassification: feed in points step by step, see how classification probability changes\n",
    "# TODO: Make the network predict persistence etc"
   ]
  },
  {
   "cell_type": "code",
   "execution_count": null,
   "metadata": {
    "ExecuteTime": {
     "end_time": "2016-03-14T18:05:19.972000",
     "start_time": "2016-03-14T18:05:19.963000"
    },
    "collapsed": false
   },
   "outputs": [],
   "source": [
    "# Constant predictor (take last position of trajectory as prediction for next position).\n",
    "constant_predicted = denormalize(mini_trajectories[:, -1])\n",
    "np.sum(np.abs(constant_predicted - expected)) / len(predicted) / 3."
   ]
  },
  {
   "cell_type": "code",
   "execution_count": null,
   "metadata": {
    "ExecuteTime": {
     "end_time": "2016-03-14T18:55:49.276000",
     "start_time": "2016-03-14T18:55:48.069000"
    },
    "collapsed": false
   },
   "outputs": [],
   "source": [
    "%matplotlib tk\n",
    "# Predict new trajectory by using one mini trajectory as seed.\n",
    "num_predictions = 237\n",
    "\n",
    "seed = mini_trajectories[np.random.randint(len(mini_trajectories))]\n",
    "generated_trajectory = list(seed)\n",
    "\n",
    "for i in range(num_predictions):\n",
    "    next_value = model.predict(seed[np.newaxis])[0]  # TODO: Maybe introduce some randomness/temperature.\n",
    "    #next_value += (np.random.rand(3) - 0.5) \n",
    "        \n",
    "    #print next_value[0]\n",
    "    generated_trajectory.append(next_value)\n",
    "    seed = np.append(seed, next_value[np.newaxis], axis=0)[1:]\n",
    "    \n",
    "generated_trajectory = np.array(generated_trajectory)\n",
    "generated_trajectory = denormalize(generated_trajectory)\n",
    "generated_trajectory = to_positions(generated_trajectory)\n",
    "#plt.plot(generated_trajectory[:, 0], generated_trajectory[:, 1])\n",
    "plt.plot(generated_trajectory[:, 0][:50], generated_trajectory[:, 1][:50])\n",
    "plt.plot(generated_trajectory[:, 0][49:], generated_trajectory[:, 1][49:])\n",
    "\n",
    "lim = 1000\n",
    "\n",
    "plt.xlim(-lim, lim)\n",
    "plt.ylim(-lim, lim)\n",
    "\n",
    "plt.gca().set(adjustable='box-forced', aspect='equal')\n",
    "plt.show()"
   ]
  },
  {
   "cell_type": "code",
   "execution_count": null,
   "metadata": {
    "ExecuteTime": {
     "end_time": "2016-03-14T18:55:46.480000",
     "start_time": "2016-03-14T18:55:28.618000"
    },
    "collapsed": false
   },
   "outputs": [],
   "source": [
    "%matplotlib tk\n",
    "for i in range(20):    \n",
    "    num_predictions = 237\n",
    "\n",
    "    seed = mini_trajectories[np.random.randint(len(mini_trajectories))]\n",
    "    generated_trajectory = list(seed)\n",
    "\n",
    "    for i in range(num_predictions):\n",
    "        next_value = model.predict(seed[np.newaxis])[0]  # TODO: Maybe introduce some randomness/temperature.\n",
    "        #next_value += (np.random.rand(3) - 0.5) \n",
    "        #print next_value[0]\n",
    "        generated_trajectory.append(next_value)\n",
    "        seed = np.append(seed, next_value[np.newaxis], axis=0)[1:]\n",
    "\n",
    "    generated_trajectory = np.array(generated_trajectory)\n",
    "    generated_trajectory = denormalize(generated_trajectory)\n",
    "    generated_trajectory = to_positions(generated_trajectory)\n",
    "    plt.plot(generated_trajectory[:, 0], generated_trajectory[:, 1])\n",
    "    \n",
    "# lim = 700\n",
    "# plt.xlim(-lim, lim)\n",
    "# plt.ylim(-lim, lim)\n",
    "\n",
    "plt.gca().set(adjustable='box-forced', aspect='equal')\n",
    "plt.show()"
   ]
  },
  {
   "cell_type": "code",
   "execution_count": null,
   "metadata": {
    "ExecuteTime": {
     "end_time": "2016-03-13T23:55:26.131000",
     "start_time": "2016-03-13T23:54:26.817000"
    },
    "collapsed": false
   },
   "outputs": [],
   "source": [
    "for mt in mini_trajectories:\n",
    "    plt.plot(mt[:, 0], mt[:, 1], 'o')\n",
    "plt.axvline(0)\n",
    "plt.axhline(0)"
   ]
  },
  {
   "cell_type": "code",
   "execution_count": null,
   "metadata": {
    "ExecuteTime": {
     "end_time": "2016-03-13T23:42:41.503000",
     "start_time": "2016-03-13T23:42:41.499000"
    },
    "collapsed": false
   },
   "outputs": [],
   "source": [
    "mini_trajectories[:, :, 0].shape"
   ]
  },
  {
   "cell_type": "code",
   "execution_count": null,
   "metadata": {
    "ExecuteTime": {
     "end_time": "2016-03-13T23:59:38.697000",
     "start_time": "2016-03-13T23:59:27.521000"
    },
    "collapsed": false
   },
   "outputs": [],
   "source": [
    "rt = np.cumsum(mini_trajectories[0:1], axis=1)\n",
    "for r in rt:\n",
    "    plt.plot(r[:, 0], r[:, 1])"
   ]
  },
  {
   "cell_type": "code",
   "execution_count": null,
   "metadata": {
    "ExecuteTime": {
     "end_time": "2016-03-13T23:48:26.938000",
     "start_time": "2016-03-13T23:48:26.929000"
    },
    "collapsed": false
   },
   "outputs": [],
   "source": [
    "rt"
   ]
  },
  {
   "cell_type": "code",
   "execution_count": null,
   "metadata": {
    "collapsed": true
   },
   "outputs": [],
   "source": []
  }
 ],
 "metadata": {
  "kernelspec": {
   "display_name": "Python 2",
   "language": "python",
   "name": "python2"
  },
  "language_info": {
   "codemirror_mode": {
    "name": "ipython",
    "version": 2
   },
   "file_extension": ".py",
   "mimetype": "text/x-python",
   "name": "python",
   "nbconvert_exporter": "python",
   "pygments_lexer": "ipython2",
   "version": "2.7.8"
  }
 },
 "nbformat": 4,
 "nbformat_minor": 0
}
