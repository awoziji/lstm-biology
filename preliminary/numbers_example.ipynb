{
 "cells": [
  {
   "cell_type": "code",
   "execution_count": 1,
   "metadata": {
    "ExecuteTime": {
     "end_time": "2016-03-20T15:03:10.910000",
     "start_time": "2016-03-20T15:03:08.239000"
    },
    "collapsed": false
   },
   "outputs": [
    {
     "name": "stderr",
     "output_type": "stream",
     "text": [
      "Using Theano backend.\n",
      "D:\\Python\\27_32bit\\lib\\site-packages\\theano\\tensor\\signal\\downsample.py:5: UserWarning: downsample module has been moved to the pool module.\n",
      "  warnings.warn(\"downsample module has been moved to the pool module.\")\n"
     ]
    },
    {
     "data": {
      "text/plain": [
       "'\\nThis script generates a sequence of numbers, then passes a portion of them 1 at a time to an LSTM \\nwhich is then trained to guess the next number. The LSTM is then tested on its ability to guess the\\nremaining numbers. A stateful LSTM network is used, so only the most recent time step needs to be \\npassed in order for the network to learn. \\n'"
      ]
     },
     "execution_count": 1,
     "metadata": {},
     "output_type": "execute_result"
    }
   ],
   "source": [
    "%matplotlib inline\n",
    "from __future__ import print_function\n",
    "\n",
    "import matplotlib.pyplot as plt\n",
    "import numpy as np\n",
    "\n",
    "from keras.models import Sequential\n",
    "from keras.layers.core import Dense, Activation, Dropout\n",
    "from keras.layers.recurrent import LSTM\n",
    "\n",
    "'''\n",
    "This script generates a sequence of numbers, then passes a portion of them 1 at a time to an LSTM \n",
    "which is then trained to guess the next number. The LSTM is then tested on its ability to guess the\n",
    "remaining numbers. A stateful LSTM network is used, so only the most recent time step needs to be \n",
    "passed in order for the network to learn. \n",
    "'''"
   ]
  },
  {
   "cell_type": "code",
   "execution_count": 2,
   "metadata": {
    "ExecuteTime": {
     "end_time": "2016-03-20T15:03:10.926000",
     "start_time": "2016-03-20T15:03:10.915000"
    },
    "collapsed": false
   },
   "outputs": [],
   "source": [
    "data = [.1 , .1 , .4 , .1 , .2 ]\n",
    "data = data * 300\n",
    "#numOfPrevSteps = 1 # We will only pass in 1 timestep at a time. The network will guess the next step from the previous step and its internal state.\n",
    "batchSize = 1 # We are only tracking a single set of features through time per epoch.\n",
    "featurelen = 1 # Only a single feature is being trained on. If our data was guess a list of numbers instead of 1 number each time, this would be set equal to the length of that list.\n",
    "testingSize = 100 # 100 data points will be used as a test set\n",
    "totalTimeSteps = len(data) # Each element in the data represents one timestep of our single feature."
   ]
  },
  {
   "cell_type": "code",
   "execution_count": 3,
   "metadata": {
    "ExecuteTime": {
     "end_time": "2016-03-20T15:03:10.948000",
     "start_time": "2016-03-20T15:03:10.933000"
    },
    "collapsed": false
   },
   "outputs": [
    {
     "name": "stdout",
     "output_type": "stream",
     "text": [
      "Formatting Data\n",
      "Formatted Data  [[[ 0.1]\n",
      "  [ 0.1]\n",
      "  [ 0.4]\n",
      "  ..., \n",
      "  [ 0.4]\n",
      "  [ 0.1]\n",
      "  [ 0.2]]]\n"
     ]
    }
   ],
   "source": [
    "print('Formatting Data')\n",
    "'''\n",
    "The data must be converted into a list of matrices to be fed to our network.\n",
    "In this case, one matrix must be generated for item in the batch. Our batchsize\n",
    "is 1, so there will only be 1 matrix in this list. The matrix consists of a list\n",
    "of features. Each row has 1 column per feature. There is 1 column in the matrix \n",
    "per timestep.\n",
    "\n",
    "So the final form of the data will be a list containing a single matrix, which has \n",
    "1 row per timestep, and only 1 column because we only have 1 feature. \n",
    "'''\n",
    "X = np.zeros([batchSize, totalTimeSteps , featurelen]) \n",
    "for r in range(totalTimeSteps):\n",
    "    X[0][r] = data[r]\n",
    "print('Formatted Data ',X)"
   ]
  },
  {
   "cell_type": "code",
   "execution_count": 4,
   "metadata": {
    "ExecuteTime": {
     "end_time": "2016-03-20T15:03:10.964000",
     "start_time": "2016-03-20T15:03:10.953000"
    },
    "collapsed": false
   },
   "outputs": [
    {
     "data": {
      "text/plain": [
       "(1, 1500, 1)"
      ]
     },
     "execution_count": 4,
     "metadata": {},
     "output_type": "execute_result"
    }
   ],
   "source": [
    "X.shape  # batchSize=1, totalTimeSteps=1500, featurelen=1"
   ]
  },
  {
   "cell_type": "code",
   "execution_count": null,
   "metadata": {
    "ExecuteTime": {
     "end_time": "2016-03-18T15:38:43.868000",
     "start_time": "2016-03-18T15:37:20.479000"
    },
    "collapsed": false
   },
   "outputs": [],
   "source": [
    "print('Building model...')\n",
    "'''\n",
    "This problem is very simple, so only 2 layers with 10 nodes\n",
    "each are used. For more complicated data, more numerous and \n",
    "larger layers will likely be required. This data is very simple and \n",
    "could probably be trained off of only 1 layer. Remember to set \n",
    "return_sequences=False for the last hidden layer.\n",
    "'''\n",
    "model = Sequential()\n",
    "model.add(LSTM(10 ,return_sequences=True, batch_input_shape=(batchSize, 1 , featurelen), stateful=True))\n",
    "#model.add(Dropout(0.2))\n",
    "model.add(LSTM(10 , return_sequences=False,stateful=True))\n",
    "#model.add(Dropout(0.2))\n",
    "model.add(Dense( featurelen ))\n",
    "model.add(Activation('linear'))\n",
    "model.compile(loss='mean_squared_error', optimizer='rmsprop')\n",
    "model.reset_states()"
   ]
  },
  {
   "cell_type": "code",
   "execution_count": 5,
   "metadata": {
    "ExecuteTime": {
     "end_time": "2016-03-20T15:03:16.100000",
     "start_time": "2016-03-20T15:03:16.041000"
    },
    "collapsed": false
   },
   "outputs": [],
   "source": [
    "# Layer implementing a Gaussian mixture model, see https://github.com/fchollet/keras/issues/1061\n",
    "\n",
    "from keras.layers import Layer\n",
    "#from keras import backend as T\n",
    "# TODO: This is only implemented for theano, rewrite it using keras.backend (as an exercise).\n",
    "import theano\n",
    "import theano.tensor as T\n",
    "\n",
    "class GMMActivation(Layer):\n",
    "    \"\"\"\n",
    "    GMM-like activation function.\n",
    "    Assumes that input has (D+2)*M dimensions, where D is the dimensionality of the \n",
    "    target data. The first M*D features are treated as means, the next M features as \n",
    "    standard devs and the last M features as mixture components of the GMM. \n",
    "    \"\"\"\n",
    "    def __init__(self, M, **kwargs):\n",
    "        super(GMMActivation, self).__init__(**kwargs)\n",
    "        self.M = M\n",
    "\n",
    "    def get_output(self, train=False):\n",
    "        X = self.get_input(train)\n",
    "        D = T.shape(X)[1]/self.M - 2\n",
    "        # leave mu values as they are since they're unconstrained\n",
    "        # scale sigmas with exp, s.t. all values are non-negative \n",
    "        X = T.set_subtensor(X[:,D*self.M:(D+1)*self.M], T.exp(X[:,D*self.M:(D+1)*self.M]))\n",
    "        # scale alphas with softmax, s.t. that all values are between [0,1] and sum up to 1\n",
    "        X = T.set_subtensor(X[:,(D+1)*self.M:(D+2)*self.M], T.nnet.softmax(X[:,(D+1)*self.M:(D+2)*self.M]))\n",
    "        return X\n",
    "\n",
    "    def get_config(self):\n",
    "        config = {\"name\": self.__class__.__name__,\n",
    "                  \"M\": self.M}\n",
    "        base_config = super(GMMActivation, self).get_config()\n",
    "        return dict(list(base_config.items()) + list(config.items()))\n",
    "\n",
    "def gmm_loss(y_true, y_pred):\n",
    "    \"\"\"\n",
    "    GMM loss function.\n",
    "    Assumes that y_pred has (D+2)*M dimensions and y_true has D dimensions. The first \n",
    "    M*D features are treated as means, the next M features as standard devs and the last \n",
    "    M features as mixture components of the GMM. \n",
    "    \"\"\"\n",
    "    def loss(m, M, D, y_true, y_pred):\n",
    "        mu = y_pred[:,D*m:(m+1)*D]\n",
    "        sigma = y_pred[:,D*M+m]\n",
    "        alpha = y_pred[:,(D+1)*M+m]\n",
    "        return (alpha/sigma) * T.exp(-T.sum(T.sqr(mu-y_true),-1)/(2*sigma**2))\n",
    "\n",
    "    D = T.shape(y_true)[1]\n",
    "    M = T.shape(y_pred)[1]/(D+2)\n",
    "    seq = T.arange(M)\n",
    "    result, _ = theano.scan(fn=loss, outputs_info=None, \n",
    "    sequences=seq, non_sequences=[M, D, y_true, y_pred])\n",
    "    return -T.log(result.sum(0))"
   ]
  },
  {
   "cell_type": "code",
   "execution_count": 13,
   "metadata": {
    "ExecuteTime": {
     "end_time": "2016-03-20T15:16:24.434000",
     "start_time": "2016-03-20T15:15:04.257000"
    },
    "collapsed": false,
    "scrolled": true
   },
   "outputs": [
    {
     "name": "stderr",
     "output_type": "stream",
     "text": [
      "D:\\Python\\27_32bit\\lib\\site-packages\\ipykernel\\__main__.py:22: DeprecationWarning: Division of two integer types with x / y is deprecated, please use x // y for an integer division.\n",
      "D:\\Python\\27_32bit\\lib\\site-packages\\ipykernel\\__main__.py:50: DeprecationWarning: Division of two integer types with x / y is deprecated, please use x // y for an integer division.\n"
     ]
    }
   ],
   "source": [
    "# Alternative model with mixture density network.\n",
    "from keras.optimizers import RMSprop\n",
    "model = Sequential()\n",
    "model.add(LSTM(10 ,return_sequences=True, batch_input_shape=(batchSize, 1 , featurelen), stateful=True))\n",
    "# TODO: Reenable dropout.\n",
    "#model.add(Dropout(0.2))\n",
    "model.add(LSTM(10 , return_sequences=False,stateful=True))\n",
    "#model.add(Dropout(0.2))\n",
    "num_gaussians_per_dimension = 10  # TODO: Change this parameter.\n",
    "model.add(Dense( (featurelen+2) * num_gaussians_per_dimension ))\n",
    "model.add(GMMActivation(num_gaussians_per_dimension))\n",
    "model.compile(loss=gmm_loss, optimizer=RMSprop(lr=0.0001))  # speed of learning: rmsprop > adam >> sgd\n",
    "model.reset_states()"
   ]
  },
  {
   "cell_type": "code",
   "execution_count": 14,
   "metadata": {
    "ExecuteTime": {
     "end_time": "2016-03-20T15:24:22.948000",
     "start_time": "2016-03-20T15:16:24.436000"
    },
    "collapsed": false,
    "run_control": {
     "marked": false
    }
   },
   "outputs": [
    {
     "name": "stdout",
     "output_type": "stream",
     "text": [
      "starting training\n",
      "Epoch 1 - loss: -0.378322\n",
      "Epoch 2 - loss: -1.60644\n",
      "Epoch 3 - loss: -2.10905\n",
      "Epoch 4 - loss: -2.90427\n",
      "Epoch 5 - loss: -3.79568\n",
      "Epoch 6 - loss: -4.49112\n",
      "Epoch 7 - loss: -4.79431\n",
      "Epoch 8 - loss: -4.91689\n",
      "Epoch 9 - loss: -5.07241\n",
      "Epoch 10 - loss: -5.16247\n",
      "Epoch 11 - loss: -5.19246\n",
      "Epoch 12 - loss: -5.28407\n",
      "Epoch 13 - loss: -5.27383\n",
      "Epoch 14 - loss: -5.30333\n",
      "Epoch 15 - loss: -5.30905\n",
      "Epoch 16 - loss: -5.31722\n",
      "Epoch 17 - loss: -5.32319\n",
      "Epoch 18 - loss: -5.31891\n",
      "Epoch 19 - loss: -5.32005\n",
      "Epoch 20 - loss: -5.34503\n",
      "Epoch 21 - loss: -5.32751\n",
      "Epoch 22 - loss: -5.31124\n",
      "Epoch 23 - loss: -5.35417\n",
      "Epoch 24 - loss: -5.35706\n",
      "Epoch 25 - loss: -5.34621\n",
      "Epoch 26 - loss: -5.34918\n",
      "Epoch 27 - loss: -5.35616\n",
      "Epoch 28 - loss: -5.34844\n",
      "Epoch 29 - loss: -5.36161\n",
      "Epoch 30 - loss: -5.36579\n",
      "Epoch 31 - loss: -5.38031\n",
      "Epoch 32 - loss: -5.37441\n",
      "Epoch 33 - loss: -5.37084\n",
      "Epoch 34 - loss: -5.37196\n",
      "Epoch 35 - loss: -5.38599\n",
      "Epoch 36 - loss: -5.38828\n",
      "Epoch 37 - loss: -5.37994\n",
      "Epoch 38 - loss: -5.38042\n",
      "Epoch 39 - loss: -5.39181\n",
      "Epoch 40 - loss: -5.37\n",
      "Epoch 41 - loss: -5.38485\n",
      "Epoch 42 - loss: -5.38386\n",
      "Epoch 43 - loss: -5.39382\n",
      "Epoch 44 - loss: -5.40482\n",
      "Epoch 45 - loss: -5.40324\n",
      "Epoch 46 - loss: -5.4021\n",
      "Epoch 47 - loss: -5.41584\n",
      "Epoch 48 - loss: -5.39403\n",
      "Epoch 49 - loss: -5.39997\n",
      "Epoch 50 - loss: -5.41027\n",
      "Epoch 51 - loss: -5.39879\n",
      "Epoch 52 - loss: -5.41377\n",
      "Epoch 53 - loss: -5.40782\n",
      "Epoch 54 - loss: -5.41054\n",
      "Epoch 55 - loss: -5.39801\n",
      "Epoch 56 - loss: -5.43289\n",
      "Epoch 57 - loss: -5.43549\n",
      "Epoch 58 - loss: -5.43975\n",
      "Epoch 59 - loss: -5.4365\n",
      "Epoch 60 - loss: -5.43942\n",
      "Epoch 61 - loss: -5.4324\n",
      "Epoch 62 - loss: -5.44825\n",
      "Epoch 63 - loss: -5.42788\n",
      "Epoch 64 - loss: -5.42656\n",
      "Epoch 65 - loss: -5.43455\n",
      "Epoch 66 - loss: -5.4281\n",
      "Epoch 67 - loss: -5.4362\n",
      "Epoch 68 - loss: -5.43098\n",
      "Epoch 69 - loss: -5.44329\n",
      "Epoch 70 - loss: -5.4365\n",
      "Epoch 71 - loss: -5.44545\n",
      "Epoch 72 - loss: -5.43372\n",
      "Epoch 73 - loss: -5.44915\n",
      "Epoch 74 - loss: -5.44856\n",
      "Epoch 75 - loss: -5.45337\n",
      "Epoch 76 - loss: -5.44287\n",
      "Epoch 77 - loss: -5.45934\n",
      "Epoch 78 - loss: -5.45239\n",
      "Epoch 79 - loss: -5.45664\n",
      "Epoch 80 - loss: -5.44639\n",
      "Epoch 81 - loss: -5.45636\n",
      "Epoch 82 - loss: -5.44119\n",
      "Epoch 83 - loss: -5.46531\n",
      "Epoch 84 - loss: -5.45119\n",
      "Epoch 85 - loss: -5.46449\n",
      "Epoch 86 - loss: -5.4531\n",
      "Epoch 87 - loss: -5.44594\n",
      "Epoch 88 - loss: -5.45447\n",
      "Epoch 89 - loss: -5.44898\n",
      "Epoch 90 - loss: -5.46282\n",
      "Epoch 91 - loss: -5.4636\n",
      "Epoch 92 - loss: -5.45115\n",
      "Epoch 93 - loss: -5.44968\n",
      "Epoch 94 - loss: -5.46245\n",
      "Epoch 95 - loss: -5.45182\n",
      "Epoch 96 - loss: -5.453\n",
      "Epoch 97 - loss: -5.4536\n",
      "Epoch 98 - loss: -5.45499\n",
      "Epoch 99 - loss: -5.45768\n",
      "Epoch 100 - loss: -5.46011\n",
      "training complete\n"
     ]
    }
   ],
   "source": [
    "print('starting training')\n",
    "num_epochs = 100\n",
    "model.reset_states()\n",
    "for e in range(num_epochs):\n",
    "    losses_epoch = []\n",
    "    print('Epoch', e+1, end='')\n",
    "    for i in range(0,totalTimeSteps-testingSize):\n",
    "        result = model.train_on_batch(X[:, i:i+1, :], np.reshape(X[:, i+1, :], (batchSize, featurelen)) ) # Train on guessing a single element based on the previous element\n",
    "        losses_epoch.append(result[0])\n",
    "    print(' - loss:', np.mean(losses_epoch))\n",
    "    model.reset_states()\n",
    "print('training complete')"
   ]
  },
  {
   "cell_type": "code",
   "execution_count": 15,
   "metadata": {
    "ExecuteTime": {
     "end_time": "2016-03-20T15:53:56.815000",
     "start_time": "2016-03-20T15:53:56.001000"
    },
    "collapsed": false
   },
   "outputs": [
    {
     "name": "stdout",
     "output_type": "stream",
     "text": [
      "warming up on training data\n"
     ]
    }
   ],
   "source": [
    "print('warming up on training data')  # Predict on all training data in order to warm up for testing data\n",
    "model.reset_states()\n",
    "warmupPredictions = []\n",
    "for i in range(0,totalTimeSteps-testingSize ):    \n",
    "    pred_parameters = model.predict(X[:, i:i+1, :] )\n",
    "    means = pred_parameters[0, :num_gaussians_per_dimension * featurelen]\n",
    "    sds = pred_parameters[0, num_gaussians_per_dimension * featurelen:num_gaussians_per_dimension * (featurelen + 1)]\n",
    "    weights = pred_parameters[0, num_gaussians_per_dimension * (featurelen + 1):]\n",
    "    pred = np.sum(weights * np.random.normal(means, sds))\n",
    "    warmupPredictions.append(pred)"
   ]
  },
  {
   "cell_type": "code",
   "execution_count": 16,
   "metadata": {
    "ExecuteTime": {
     "end_time": "2016-03-20T15:53:57.256000",
     "start_time": "2016-03-20T15:53:57.131000"
    },
    "collapsed": false
   },
   "outputs": [
    {
     "name": "stdout",
     "output_type": "stream",
     "text": [
      "testing network\n"
     ]
    }
   ],
   "source": [
    "# Generate new data by using training data as input.\n",
    "# RUN WARMUP BEFORE THIS.\n",
    "print('testing network')\n",
    "predictions = []\n",
    "testStart = totalTimeSteps-testingSize -1 #We subtract one because we want the last element of the training set to be first element of the testing set\n",
    "for i in range(testStart,totalTimeSteps-1):\n",
    "    pred_parameters = model.predict(X[:, i:i+1, :] )\n",
    "    means = pred_parameters[0, :num_gaussians_per_dimension * featurelen]\n",
    "    sds = pred_parameters[0, num_gaussians_per_dimension * featurelen:num_gaussians_per_dimension * (featurelen + 1)]\n",
    "    weights = pred_parameters[0, num_gaussians_per_dimension * (featurelen + 1):]\n",
    "    pred = np.sum(weights * np.random.normal(means, sds))\n",
    "    predictions.append(pred)"
   ]
  },
  {
   "cell_type": "code",
   "execution_count": null,
   "metadata": {
    "ExecuteTime": {
     "end_time": "2016-03-20T02:54:12.597000",
     "start_time": "2016-03-20T02:54:12.497000"
    },
    "collapsed": false
   },
   "outputs": [],
   "source": [
    "# Generate new data by using predictions as input.\n",
    "# RUN WARMUP BEFORE THIS.\n",
    "predictions = []\n",
    "#print(warmupPredictions)\n",
    "predictions.append(warmupPredictions[-1])\n",
    "testStart = totalTimeSteps-testingSize -1 #We subtract one because we want the last element of the training set to be first element of the testing set\n",
    "for i in range(testStart,totalTimeSteps-2):\n",
    "    pred_parameters = model.predict(predictions[-1][np.newaxis, np.newaxis, np.newaxis])\n",
    "    means = pred_parameters[0, :num_gaussians_per_dimension * featurelen]\n",
    "    sds = pred_parameters[0, num_gaussians_per_dimension * featurelen:num_gaussians_per_dimension * (featurelen + 1)]\n",
    "    weights = pred_parameters[0, num_gaussians_per_dimension * (featurelen + 1):]\n",
    "    pred = np.sum(weights * np.random.normal(means, sds))\n",
    "    predictions.append(pred)"
   ]
  },
  {
   "cell_type": "code",
   "execution_count": 17,
   "metadata": {
    "ExecuteTime": {
     "end_time": "2016-03-20T15:54:00.841000",
     "start_time": "2016-03-20T15:54:00.418000"
    },
    "collapsed": false
   },
   "outputs": [
    {
     "data": {
      "text/plain": [
       "<matplotlib.legend.Legend at 0x38c06490>"
      ]
     },
     "execution_count": 17,
     "metadata": {},
     "output_type": "execute_result"
    },
    {
     "data": {
      "image/png": "[encoded data removed]",
      "text/plain": [
       "<matplotlib.figure.Figure at 0x38c064f0>"
      ]
     },
     "metadata": {},
     "output_type": "display_data"
    }
   ],
   "source": [
    "plt.plot(predictions, label='predicted')\n",
    "plt.plot(data[testStart+1:], label='expected')\n",
    "plt.xlabel('time')\n",
    "plt.ylabel('value')\n",
    "#plt.xlim(-10, len(predictions) + 10)\n",
    "plt.xlim(10, 50)\n",
    "plt.ylim(0, 0.5)\n",
    "plt.legend()"
   ]
  },
  {
   "cell_type": "code",
   "execution_count": null,
   "metadata": {
    "collapsed": true
   },
   "outputs": [],
   "source": []
  },
  {
   "cell_type": "code",
   "execution_count": null,
   "metadata": {
    "ExecuteTime": {
     "end_time": "2016-03-20T02:55:15.577000",
     "start_time": "2016-03-20T02:55:15.093000"
    },
    "collapsed": false
   },
   "outputs": [],
   "source": [
    "# Predict with random values as seeds.\n",
    "len_seed = 1\n",
    "predictTimeSteps = 200\n",
    "predicted = np.zeros((batchSize, predictTimeSteps, featurelen))\n",
    "predicted[:, :len_seed] = np.random.rand(batchSize, 1, featurelen)  #2. * (np.random.rand(batch_size, 1, 3) - 0.5)\n",
    "model.reset_states()\n",
    "\n",
    "log_traj = 0\n",
    "    \n",
    "# for i in range(len_seed - 1):\n",
    "# #     print seed[:, i:i+1]\n",
    "#     model_input = seed[:, i:i+1]\n",
    "#     model_output = model.predict_on_batch(model_input)[0]\n",
    "#     print 'Trajectory {}: Input: {} - Output: {}'.format(log_traj, model_input[log_traj], model_output[log_traj])\n",
    "    \n",
    "    \n",
    "# print '------------------------'\n",
    "    \n",
    "for i in range(predictTimeSteps - 1):\n",
    "    model_input = predicted[:, i:i+1]\n",
    "    model_output = model.predict_on_batch(model_input)[0]    \n",
    "    #model_output += 0.01 * (np.random.rand(batch_size, 3) - 0.5)\n",
    "    \n",
    "    print('Tr {}, step {}: In: {} - Out: {}'.format(log_traj, i, model_input[log_traj], model_output[log_traj]))\n",
    "    \n",
    "    if i+1 >= len_seed:\n",
    "        predicted[:, i+1] = model_output\n",
    "        print('--> Storing at {}'.format(i+1))\n",
    "    else:\n",
    "        print('--> Seed')"
   ]
  },
  {
   "cell_type": "code",
   "execution_count": null,
   "metadata": {
    "ExecuteTime": {
     "end_time": "2016-03-18T15:49:35.859000",
     "start_time": "2016-03-18T15:49:35.621000"
    },
    "collapsed": false
   },
   "outputs": [],
   "source": [
    "plt.plot(predicted[0], 'b')\n",
    "#plt.plot(range(len(predictions)), [t[0] for t in targets], 'g')\n",
    "plt.xlabel('time')\n",
    "plt.ylabel('value')\n",
    "plt.xlim(-10, len(predicted[0]) + 10)\n",
    "plt.ylim(-0.5, 1)\n",
    "#plt.show()"
   ]
  },
  {
   "cell_type": "code",
   "execution_count": null,
   "metadata": {
    "collapsed": true
   },
   "outputs": [],
   "source": []
  }
 ],
 "metadata": {
  "kernelspec": {
   "display_name": "Python 2",
   "language": "python",
   "name": "python2"
  },
  "language_info": {
   "codemirror_mode": {
    "name": "ipython",
    "version": 2
   },
   "file_extension": ".py",
   "mimetype": "text/x-python",
   "name": "python",
   "nbconvert_exporter": "python",
   "pygments_lexer": "ipython2",
   "version": "2.7.8"
  }
 },
 "nbformat": 4,
 "nbformat_minor": 0
}
